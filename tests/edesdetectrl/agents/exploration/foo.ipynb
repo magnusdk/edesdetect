{
 "cells": [
  {
   "cell_type": "code",
   "execution_count": null,
   "metadata": {},
   "outputs": [],
   "source": [
    "%load_ext autoreload\n",
    "%autoreload 2\n",
    "\n",
    "import edesdetectrl.agents.dqn.exploration.m_mode as mex\n",
    "import jax.numpy as jnp\n",
    "import pytest\n",
    "from edesdetectrl.environments.m_mode_binary_classification.line import Bounds, Line\n",
    "from jax import random\n",
    "import os\n",
    "import matplotlib.pyplot as plt\n",
    "import numpy as np\n",
    "import dataclasses\n",
    "\n",
    "os.environ[\"CUDA_VISIBLE_DEVICES\"] = \"\"\n",
    "\n",
    "bounds = Bounds.from_shape((112, 112))\n",
    "line = Line.center_of_bounds(bounds, 60)\n",
    "state = mex.ExplorationState.initial_exploration_state(line, bounds)\n",
    "state.target_line = state.current_line"
   ]
  },
  {
   "cell_type": "code",
   "execution_count": null,
   "metadata": {},
   "outputs": [],
   "source": [
    "def with_rot(r):\n",
    "    temp_state = dataclasses.replace(state)\n",
    "    temp_state.current_line = temp_state.current_line.rotate(r)\n",
    "    return (\n",
    "        temp_state.rot_dist,\n",
    "        temp_state.current_line.rotation,\n",
    "        r,  # - temp_state.target_line.rotation,\n",
    "    )\n",
    "\n",
    "\n",
    "xs = np.linspace(-2*np.pi, 2*np.pi, 200)\n",
    "\n",
    "a = [with_rot(r) for r in xs]\n",
    "# plt.plot(xs, [i[0] for i in a])\n",
    "plt.plot(xs, [i[1] for i in a])\n",
    "plt.plot(xs, [i[2] for i in a])\n",
    "# plt.axhline(0)\n",
    "# plt.axvline(0)\n"
   ]
  },
  {
   "cell_type": "code",
   "execution_count": null,
   "metadata": {},
   "outputs": [],
   "source": [
    "dataclasses.replace(state)"
   ]
  },
  {
   "cell_type": "code",
   "execution_count": null,
   "metadata": {},
   "outputs": [],
   "source": [
    "state.current_line.rotate(0).rotation"
   ]
  },
  {
   "cell_type": "code",
   "execution_count": null,
   "metadata": {},
   "outputs": [],
   "source": [
    "state.target_line.rotation"
   ]
  }
 ],
 "metadata": {
  "interpreter": {
   "hash": "df5e1933087f8fa316124c3ffd7b7f2e3782bcd24b9e3525a06685ef24f27c56"
  },
  "kernelspec": {
   "display_name": "Python 3.8.6 ('edesdetectrl-J9dxY6QU-py3.8')",
   "language": "python",
   "name": "python3"
  },
  "language_info": {
   "codemirror_mode": {
    "name": "ipython",
    "version": 3
   },
   "file_extension": ".py",
   "mimetype": "text/x-python",
   "name": "python",
   "nbconvert_exporter": "python",
   "pygments_lexer": "ipython3",
   "version": "3.8.6"
  },
  "orig_nbformat": 4
 },
 "nbformat": 4,
 "nbformat_minor": 2
}
