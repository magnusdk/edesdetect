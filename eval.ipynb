{
 "cells": [
  {
   "cell_type": "code",
   "execution_count": 1,
   "source": [
    "import coax\n",
    "from coax._core.q import Q\n",
    "import gym\n",
    "import jax.numpy as jnp\n",
    "\n",
    "import edesdetectrl.environments.binary_classification\n",
    "from edesdetectrl.config import config\n",
    "import edesdetectrl.model as model"
   ],
   "outputs": [
    {
     "output_type": "stream",
     "name": "stderr",
     "text": [
      "/Users/magnus/research/edesdetect/.venv/lib/python3.8/site-packages/ray/autoscaler/_private/cli_logger.py:57: FutureWarning: Not all Ray CLI dependencies were found. In Ray 1.4+, the Ray CLI, autoscaler, and dashboard will only be usable via `pip install 'ray[default]'`. Please update your install command.\n",
      "  warnings.warn(\n"
     ]
    }
   ],
   "metadata": {}
  },
  {
   "cell_type": "code",
   "execution_count": 2,
   "source": [
    "env = gym.make(\"EDESClassification-v0\")\n",
    "\n",
    "q = coax.Q(model.get_func_approx(env), env)\n",
    "q.params = coax.utils.load(config['data']['trained_params_path'])"
   ],
   "outputs": [
    {
     "output_type": "stream",
     "name": "stderr",
     "text": [
      "WARNING:absl:No GPU/TPU found, falling back to CPU. (Set TF_CPP_MIN_LOG_LEVEL=0 and rerun for more info.)\n"
     ]
    }
   ],
   "metadata": {}
  },
  {
   "cell_type": "code",
   "execution_count": 13,
   "source": [
    "done = False\n",
    "s = env.reset()\n",
    "all_q_values = []\n",
    "all_states = []\n",
    "all_rewards = []\n",
    "while not done:\n",
    "    q_values = q(s)\n",
    "    a = jnp.argmax(q_values)\n",
    "    s, r, done, info = env.step(a)\n",
    "\n",
    "    all_q_values.append(q_values)\n",
    "    all_states.append(s)\n",
    "    all_rewards.append(r)\n",
    "\n",
    "\n",
    "env.close()"
   ],
   "outputs": [],
   "metadata": {}
  },
  {
   "cell_type": "code",
   "execution_count": 21,
   "source": [
    "import matplotlib.pyplot as plt\n",
    "from matplotlib.animation import FuncAnimation\n",
    "%matplotlib widget\n",
    "\n",
    "fig, ax = plt.subplots(ncols=2)\n",
    "ax[0].plot(all_q_values)\n",
    "ax[0].plot(all_rewards)\n",
    "ax[0].legend(['0','1','Reward'])\n",
    "\n",
    "im = ax[1].imshow(all_states[0][:,:,1])\n",
    "def update(i):\n",
    "    im.set_data(all_states[i][:,:,1])\n",
    "\n",
    "anim = FuncAnimation(fig, update, len(all_states))\n",
    "\n",
    "plt.show()"
   ],
   "outputs": [
    {
     "output_type": "display_data",
     "data": {
      "text/plain": [
       "Canvas(toolbar=Toolbar(toolitems=[('Home', 'Reset original view', 'home', 'home'), ('Back', 'Back to previous …"
      ],
      "application/vnd.jupyter.widget-view+json": {
       "version_major": 2,
       "version_minor": 0,
       "model_id": "7c7e78c547ff4ee8852749cd2d1146e6"
      }
     },
     "metadata": {}
    },
    {
     "output_type": "stream",
     "name": "stderr",
     "text": [
      "/Users/magnus/research/edesdetect/.venv/lib/python3.8/site-packages/matplotlib/animation.py:973: UserWarning: Animation was deleted without rendering anything. This is most likely unintended. To prevent deletion, assign the Animation to a variable that exists for as long as you need the Animation.\n",
      "  warnings.warn(\n"
     ]
    }
   ],
   "metadata": {}
  },
  {
   "cell_type": "code",
   "execution_count": 23,
   "source": [
    "anim.pause()"
   ],
   "outputs": [],
   "metadata": {}
  }
 ],
 "metadata": {
  "orig_nbformat": 4,
  "language_info": {
   "name": "python"
  }
 },
 "nbformat": 4,
 "nbformat_minor": 2
}