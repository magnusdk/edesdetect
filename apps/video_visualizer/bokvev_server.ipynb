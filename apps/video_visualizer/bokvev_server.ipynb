{
 "cells": [
  {
   "cell_type": "code",
   "execution_count": 1,
   "metadata": {},
   "outputs": [],
   "source": [
    "from bokvev.server import Server\n",
    "\n",
    "server = Server(server_port=8081)\n",
    "server.start()\n",
    "\n"
   ]
  },
  {
   "cell_type": "code",
   "execution_count": 2,
   "metadata": {},
   "outputs": [],
   "source": [
    "from dataclasses import dataclass\n",
    "\n",
    "\n",
    "@dataclass\n",
    "class Video:\n",
    "    data: str\n",
    "    name: str\n"
   ]
  },
  {
   "cell_type": "code",
   "execution_count": 6,
   "metadata": {},
   "outputs": [],
   "source": [
    "import numpy as np\n",
    "import cv2\n",
    "import tempfile\n",
    "import base64\n",
    "from edesdetectrl.dataloaders.echotiming import EchoTiming\n",
    "\n",
    "echotiming = EchoTiming(None, 1)\n",
    "video_index = 0\n",
    "\n",
    "\n",
    "def get_video(video_index):\n",
    "    with tempfile.NamedTemporaryFile(\"w+b\", suffix=\".mp4\") as temp:\n",
    "        task_fn, args = echotiming[video_index]\n",
    "        data_item = task_fn(args)\n",
    "\n",
    "        size = data_item.video.shape[1] + 8, data_item.video.shape[2]\n",
    "        fps = 12\n",
    "        out = cv2.VideoWriter(\n",
    "            temp.name, cv2.VideoWriter_fourcc(*\"mp4v\"), fps, (size[1], size[0]), False\n",
    "        )\n",
    "        for i, frame in enumerate(data_item.video):\n",
    "            progress = np.zeros((4, size[1]))\n",
    "            progress[:, 0 : int((i * size[1] / data_item.length))] = 255\n",
    "            data = np.concatenate(\n",
    "                [\n",
    "                    frame,\n",
    "                    np.ones((4, size[1]))\n",
    "                    * (50 if data_item.ground_truth[i] == 0 else 200),\n",
    "                    progress,\n",
    "                ],\n",
    "                axis=0,\n",
    "            )\n",
    "            data = np.array(data, dtype=\"uint8\")\n",
    "            out.write(data)\n",
    "        out.release()\n",
    "\n",
    "        encoded = base64.b64encode(temp.read()).decode(\"utf-8\")\n",
    "    return {\"video\": Video(data=encoded, name=data_item.name)}\n",
    "\n",
    "\n",
    "def next_video():\n",
    "    global video_index\n",
    "    video_index += 1\n",
    "    return get_video(video_index)\n",
    "\n",
    "\n",
    "def prev_video():\n",
    "    global video_index\n",
    "    video_index -= 1\n",
    "    return get_video(video_index)\n",
    "\n",
    "\n",
    "def index():\n",
    "    with open(\"apps/video_visualizer/index.html\", \"r\") as f:\n",
    "        content = f.read()\n",
    "    return content\n"
   ]
  }
 ],
 "metadata": {
  "interpreter": {
   "hash": "60da1547f2342b46b14c2a9fcb79c4b44e23eae1de9dc40cc29a30807ff913f1"
  },
  "kernelspec": {
   "display_name": "Python 3.8.5 ('edesdetectrl-ZDQw2FOC-py3.8')",
   "language": "python",
   "name": "python3"
  },
  "language_info": {
   "codemirror_mode": {
    "name": "ipython",
    "version": 3
   },
   "file_extension": ".py",
   "mimetype": "text/x-python",
   "name": "python",
   "nbconvert_exporter": "python",
   "pygments_lexer": "ipython3",
   "version": "3.8.5"
  },
  "orig_nbformat": 4
 },
 "nbformat": 4,
 "nbformat_minor": 2
}
