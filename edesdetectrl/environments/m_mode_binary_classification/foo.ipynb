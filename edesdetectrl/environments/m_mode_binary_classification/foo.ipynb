{
 "cells": [
  {
   "cell_type": "code",
   "execution_count": null,
   "metadata": {},
   "outputs": [],
   "source": [
    "%load_ext autoreload\n",
    "%autoreload 2\n",
    "\n",
    "import os\n",
    "os.environ[\"XLA_PYTHON_CLIENT_PREALLOCATE\"]=\"false\"\n",
    "os.environ[\"CUDA_VISIBLE_DEVICES\"]=\"2\""
   ]
  },
  {
   "cell_type": "code",
   "execution_count": null,
   "metadata": {},
   "outputs": [],
   "source": [
    "import gif\n",
    "from edesdetectrl.environments.m_mode_binary_classification.line import (\n",
    "    Bounds,\n",
    "    Line,\n",
    "    MModeLine,\n",
    ")\n",
    "from jax import random\n",
    "import matplotlib.pyplot as plt\n",
    "\n",
    "key = random.PRNGKey(42)\n",
    "bounds = Bounds(-40, -40, 40, 40)\n",
    "lines = []\n",
    "\n",
    "\n",
    "def next_random_line():\n",
    "    global key, bounds, lines\n",
    "    lines.append(Line.random_within_bounds(key, bounds, 55, pad_x=10, pad_y=10))\n",
    "    key, = random.split(key, 1)\n",
    "    return lines[-1]\n"
   ]
  },
  {
   "cell_type": "code",
   "execution_count": null,
   "metadata": {},
   "outputs": [],
   "source": [
    "import matplotlib.patches as patches\n",
    "\n",
    "\n",
    "@gif.frame\n",
    "def frame():\n",
    "    fig, ax = plt.subplots(figsize=(6, 6))\n",
    "    bounds2 = Bounds(-50, -50, 50, 50)\n",
    "\n",
    "    [next_random_line() for _ in range(99)]\n",
    "    ax.imshow(\n",
    "        MModeLine(next_random_line(), bounds2, 200).visualize_line(),\n",
    "        extent=[-50, 50, -50, 50],\n",
    "        aspect=\"auto\",\n",
    "    )\n",
    "    ax.scatter(\n",
    "        [(line.x1 + line.x2) / 2 for line in lines],\n",
    "        [(line.y1 + line.y2) / 2 for line in lines],\n",
    "    )\n",
    "    ax.add_patch(\n",
    "        patches.Rectangle((-40, -40), 80, 80, fc=\"none\", ec=\"w\", lw=1, ls=\"dashed\")\n",
    "    )\n",
    "    ax.add_patch(\n",
    "        patches.Rectangle((-30, -30), 60, 60, fc=\"none\", ec=\"g\", lw=1, ls=\"dashed\")\n",
    "    )\n",
    "    return ax\n",
    "\n",
    "\n",
    "gif.save([frame() for _ in range(200)], \"temp.gif\")"
   ]
  },
  {
   "cell_type": "code",
   "execution_count": null,
   "metadata": {},
   "outputs": [],
   "source": [
    "import numpy as np\n",
    "\n",
    "a, b = np.histogram([line.rotation for line in lines], 24)\n",
    "plt.plot(b[:-1],a)\n",
    "None"
   ]
  },
  {
   "cell_type": "code",
   "execution_count": null,
   "metadata": {},
   "outputs": [],
   "source": [
    "a, b, c = np.histogram2d(\n",
    "    [(line.x1 + line.x2) / 2 for line in lines],\n",
    "    [(line.y1 + line.y2) / 2 for line in lines],\n",
    "    bins=32\n",
    ")\n",
    "\n",
    "plt.hist2d(\n",
    "    [(line.x1 + line.x2) / 2 for line in lines],\n",
    "    [(line.y1 + line.y2) / 2 for line in lines],\n",
    "    c,\n",
    ")\n",
    "None"
   ]
  },
  {
   "cell_type": "code",
   "execution_count": null,
   "metadata": {},
   "outputs": [],
   "source": [
    "plt.plot(np.sqrt(np.sum(a, axis=0)*np.sum(a, axis=1)))"
   ]
  }
 ],
 "metadata": {
  "interpreter": {
   "hash": "df5e1933087f8fa316124c3ffd7b7f2e3782bcd24b9e3525a06685ef24f27c56"
  },
  "kernelspec": {
   "display_name": "Python 3.8.6 ('edesdetectrl-J9dxY6QU-py3.8')",
   "language": "python",
   "name": "python3"
  },
  "language_info": {
   "codemirror_mode": {
    "name": "ipython",
    "version": 3
   },
   "file_extension": ".py",
   "mimetype": "text/x-python",
   "name": "python",
   "nbconvert_exporter": "python",
   "pygments_lexer": "ipython3",
   "version": "3.8.6"
  },
  "orig_nbformat": 4
 },
 "nbformat": 4,
 "nbformat_minor": 2
}
