{
 "cells": [
  {
   "cell_type": "code",
   "execution_count": null,
   "metadata": {},
   "outputs": [],
   "source": [
    "import os\n",
    "from typing import List, Literal, Union\n",
    "\n",
    "import cv2\n",
    "import numpy as np\n",
    "import pandas as pd\n",
    "from edesdetectrl import dataloaders\n",
    "from edesdetectrl.config import config\n",
    "import edesdetectrl.dataloaders.echonet.label_frames as lf\n",
    "from edesdetectrl.dataloaders.echonet import _get_filenames\n",
    "\n",
    "split = \"TRAIN\"\n",
    "filelist_csv_file = config[\"data\"][\"filelist_path\"]\n",
    "volumetracings_df = pd.read_csv(\n",
    "    config[\"data\"][\"volumetracings_path\"], index_col=\"FileName\"\n",
    ")\n",
    "videos_dir = config[\"data\"][\"videos_path\"]\n",
    "\n",
    "filenames = _get_filenames(filelist_csv_file, split)"
   ]
  },
  {
   "cell_type": "code",
   "execution_count": null,
   "metadata": {},
   "outputs": [],
   "source": [
    "filenames[0]"
   ]
  },
  {
   "cell_type": "code",
   "execution_count": null,
   "metadata": {},
   "outputs": [],
   "source": [
    "def loadvideo(filename: str) -> np.ndarray:\n",
    "    # Copied and modified from https://github.com/echonet/dynamic/blob/f6d9b342ffd6e5129bcf15a994e1734fc31003f6/echonet/utils/__init__.py#L16\n",
    "    \"\"\"Loads a video from a file.\n",
    "    Args:\n",
    "        filename (str): filename of video\n",
    "    Returns:\n",
    "        A np.ndarray with dimensions (frames, height, width). The values\n",
    "        will be uint8's ranging from 0 to 255.\n",
    "    Raises:\n",
    "        FileNotFoundError: Could not find `filename`\n",
    "        ValueError: An error occurred while reading the video\n",
    "    \"\"\"\n",
    "    if not os.path.exists(filename):\n",
    "        raise FileNotFoundError(filename)\n",
    "    capture = cv2.VideoCapture(filename)\n",
    "\n",
    "    frame_count = int(capture.get(cv2.CAP_PROP_FRAME_COUNT))\n",
    "    frame_width = int(capture.get(cv2.CAP_PROP_FRAME_WIDTH))\n",
    "    frame_height = int(capture.get(cv2.CAP_PROP_FRAME_HEIGHT))\n",
    "\n",
    "    v = np.zeros((frame_count, frame_height, frame_width), np.uint8)\n",
    "\n",
    "    for count in range(frame_count):\n",
    "        ret, frame = capture.read()\n",
    "        if not ret:\n",
    "            raise ValueError(\"Failed to load frame #{} of {}.\".format(count, filename))\n",
    "\n",
    "        frame = cv2.cvtColor(frame, cv2.COLOR_BGR2GRAY)  # Use grayscale images\n",
    "        v[count, :, :] = frame\n",
    "\n",
    "    return v"
   ]
  },
  {
   "cell_type": "code",
   "execution_count": null,
   "metadata": {},
   "outputs": [],
   "source": [
    "import tensorflow as tf\n",
    "\n",
    "\n",
    "def videos_gen():\n",
    "    for filename in filenames:\n",
    "        traces = volumetracings_df.loc[filename]\n",
    "        ed, es = int(traces.iloc[0][\"Frame\"]), int(traces.iloc[-1][\"Frame\"])\n",
    "        video = loadvideo(videos_dir + filename)\n",
    "        yield video, ed, es\n",
    "\n",
    "\n",
    "ds = tf.data.Dataset.from_generator(\n",
    "    videos_gen,\n",
    "    output_signature=(\n",
    "        tf.RaggedTensorSpec(shape=(None, 112, 112), dtype=tf.uint8),\n",
    "        tf.TensorSpec(shape=(), dtype=tf.int32),\n",
    "        tf.TensorSpec(shape=(), dtype=tf.int32),\n",
    "    ),\n",
    ")\n",
    "# ds = ds.prefetch(10)\n",
    "#ds = ds.map(\n",
    "#    lambda video, ed, es: tf.py_function(\n",
    "#        lf.label_frames,\n",
    "#        (video, ed, es),\n",
    "#        tf.float32,\n",
    "#    )\n",
    "#)\n",
    "ds = ds.as_numpy_iterator()\n",
    "next(ds)\n"
   ]
  }
 ],
 "metadata": {
  "interpreter": {
   "hash": "4c8a0d0d5b3da7274990276abc54ce36e749a0500b8a1ed38e4ac6271113b16a"
  },
  "kernelspec": {
   "display_name": "Python 3.6.8 64-bit ('edesdetect.bak-tCWm09lZ': pipenv)",
   "language": "python",
   "name": "python3"
  },
  "language_info": {
   "codemirror_mode": {
    "name": "ipython",
    "version": 3
   },
   "file_extension": ".py",
   "mimetype": "text/x-python",
   "name": "python",
   "nbconvert_exporter": "python",
   "pygments_lexer": "ipython3",
   "version": "3.8.6"
  },
  "orig_nbformat": 4
 },
 "nbformat": 4,
 "nbformat_minor": 2
}
