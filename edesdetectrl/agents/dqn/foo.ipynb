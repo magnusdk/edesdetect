{
 "cells": [
  {
   "cell_type": "code",
   "execution_count": null,
   "metadata": {},
   "outputs": [],
   "source": [
    "%load_ext autoreload\n",
    "%autoreload 2\n",
    "\n",
    "\n",
    "import os\n",
    "os.environ[\"CUDA_VISIBLE_DEVICES\"]=\"1\"\n",
    "os.environ[\"XLA_PYTHON_CLIENT_PREALLOCATE\"]=\"false\""
   ]
  },
  {
   "cell_type": "code",
   "execution_count": null,
   "metadata": {},
   "outputs": [],
   "source": [
    "import edesdetectrl.util.dm_env as util_dm_env\n",
    "from edesdetectrl.environments.m_mode_binary_classification import (\n",
    "    EDESMModeClassification_v0,\n",
    ")\n",
    "\n",
    "env = util_dm_env.GymWrapper(EDESMModeClassification_v0(\"echonet\", \"simple\"))\n",
    "timestep = env.reset()\n"
   ]
  },
  {
   "cell_type": "code",
   "execution_count": null,
   "metadata": {},
   "outputs": [],
   "source": [
    "from edesdetectrl.agents.dqn import agent\n",
    "import edesdetectrl.agents.dqn.config as dqn_config\n",
    "import jax.numpy as jnp\n",
    "from jax import random, jit\n",
    "\n",
    "\n",
    "class MockNetwork:\n",
    "    def apply(self, *args):\n",
    "        return jnp.ones(8), None\n",
    "\n",
    "\n",
    "policy = agent.make_inference_fn(MockNetwork(), dqn_config.DQNConfig(), False)\n",
    "params, state = None, None\n",
    "key = random.PRNGKey(42)\n",
    "policy_state = policy.init()\n",
    "inference = policy#jit(policy)\n",
    "obs = env.reset().observation\n"
   ]
  },
  {
   "cell_type": "code",
   "execution_count": null,
   "metadata": {},
   "outputs": [],
   "source": [
    "import gif\n",
    "import matplotlib.pyplot as plt\n",
    "from edesdetectrl.environments.m_mode_binary_classification.line import MModeLine\n",
    "\n",
    "\n",
    "@gif.frame\n",
    "def frame(env, policy_state):\n",
    "    fig, ax = plt.subplots(nrows=2, figsize=(12,8))\n",
    "    ax[0].imshow(env._environment.render(), aspect=\"auto\")\n",
    "    temp_mmode = MModeLine(\n",
    "        policy_state.exploration_target.line,\n",
    "        env._environment.mmode_line.bounds,\n",
    "    )\n",
    "    ax[1].imshow(temp_mmode.visualize_line(), aspect=\"auto\")\n",
    "    fig.tight_layout()\n",
    "    return fig\n",
    "\n",
    "\n",
    "frames = [frame(env, policy_state)]\n",
    "for _ in range(20):\n",
    "    key, = random.split(key, 1)\n",
    "    mmode_line = env._environment.mmode_line\n",
    "    action, policy_state = inference(key, policy_state, params, state, obs, mmode_line)\n",
    "    timestep = env.step(action)\n",
    "    obs = timestep.observation\n",
    "    frames.append(frame(env, policy_state))\n",
    "\n",
    "gif.save(frames, \"temp2.gif\")"
   ]
  },
  {
   "cell_type": "code",
   "execution_count": null,
   "metadata": {},
   "outputs": [],
   "source": [
    "from edesdetectrl.environments.m_mode_binary_classification.line import Line\n",
    "policy_state.exploration_target.line = Line(50,40,50,60)"
   ]
  }
 ],
 "metadata": {
  "interpreter": {
   "hash": "df5e1933087f8fa316124c3ffd7b7f2e3782bcd24b9e3525a06685ef24f27c56"
  },
  "kernelspec": {
   "display_name": "Python 3.8.6 ('edesdetectrl-J9dxY6QU-py3.8')",
   "language": "python",
   "name": "python3"
  },
  "language_info": {
   "codemirror_mode": {
    "name": "ipython",
    "version": 3
   },
   "file_extension": ".py",
   "mimetype": "text/x-python",
   "name": "python",
   "nbconvert_exporter": "python",
   "pygments_lexer": "ipython3",
   "version": "3.8.6"
  },
  "orig_nbformat": 4
 },
 "nbformat": 4,
 "nbformat_minor": 2
}
