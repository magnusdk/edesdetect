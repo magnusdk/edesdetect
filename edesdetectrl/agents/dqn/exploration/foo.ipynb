{
 "cells": [
  {
   "cell_type": "code",
   "execution_count": null,
   "metadata": {},
   "outputs": [],
   "source": [
    "%load_ext autoreload\n",
    "%autoreload 2"
   ]
  },
  {
   "cell_type": "code",
   "execution_count": null,
   "metadata": {},
   "outputs": [],
   "source": [
    "import matplotlib.pyplot as plt\n",
    "\n",
    "import gif\n",
    "import numpy as np\n",
    "from numpy.random import uniform\n",
    "from edesdetectrl.environments.m_mode_binary_classification.line import Line\n",
    "from edesdetectrl.agents.dqn.exploration.m_mode import ExplorationTarget\n",
    "\n",
    "original_line = Line(0, -0.5, 0, 0.5)\n",
    "target = ExplorationTarget(original_line)\n",
    "\n",
    "moved_line = original_line.rotate(1.3).move_horizontally(0.6).move_vertically(0.2)\n",
    "\n",
    "\n",
    "@gif.frame\n",
    "def frame(i):\n",
    "    plt.figure(figsize=(5, 5))\n",
    "    plt.xlim((-1, 1))\n",
    "    plt.ylim((-1, 1))\n",
    "    plt.plot(*moved_line.as_points(2))\n",
    "    im = plt.plot(*target.line.as_points(2))\n",
    "    plt.tight_layout()\n",
    "\n",
    "    if np.abs(target.pos_distance(moved_line)) > np.abs(\n",
    "        target.rot_distance(moved_line)\n",
    "    ):\n",
    "        target.approach_pos(moved_line, 0.02)\n",
    "    else:\n",
    "        target.approach_rot(moved_line, 0.05)\n",
    "    return im\n",
    "\n",
    "\n",
    "gif.save(\n",
    "    [\n",
    "        frame(i)\n",
    "        for i in range(200)\n",
    "        if (\n",
    "            target.pos_distance(moved_line) > 0.02\n",
    "            or target.rot_distance(moved_line) > 0.05\n",
    "        )\n",
    "    ],\n",
    "    \"foo.gif\",\n",
    "    duration=30,\n",
    "    unit=\"ms\",\n",
    "    between=\"frames\",\n",
    ")\n"
   ]
  },
  {
   "cell_type": "code",
   "execution_count": null,
   "metadata": {},
   "outputs": [],
   "source": [
    "original_line = Line(uniform(-1, 1), uniform(-1, 1), uniform(-1, 1), uniform(-1, 1))\n",
    "target = ExplorationTarget(original_line)\n",
    "\n",
    "moved_line = (\n",
    "    original_line\n",
    "    # .rotate(1.3)\n",
    "    .move_horizontally(0.2 * original_line.magnitude).move_vertically(\n",
    "        -0.2 * original_line.magnitude\n",
    "    )\n",
    ")\n",
    "\n",
    "np.dot(target.line.perpendicular_direction, moved_line.center)\n"
   ]
  },
  {
   "cell_type": "code",
   "execution_count": null,
   "metadata": {},
   "outputs": [],
   "source": [
    "target.pos_distance(moved_line), target.rot_distance(moved_line)"
   ]
  },
  {
   "cell_type": "code",
   "execution_count": null,
   "metadata": {},
   "outputs": [],
   "source": [
    "target.pos_distance(moved_line) > 0.02 or target.rot_distance(moved_line) > 0.05"
   ]
  },
  {
   "cell_type": "code",
   "execution_count": null,
   "metadata": {},
   "outputs": [],
   "source": [
    "import numpy as np\n",
    "import matplotlib.pyplot as plt"
   ]
  },
  {
   "cell_type": "code",
   "execution_count": null,
   "metadata": {},
   "outputs": [],
   "source": [
    "w = 1\n",
    "h = 2\n",
    "l = 2\n",
    "y_axis = np.linspace(0, h)\n",
    "allowed_y = np.logical_or(\n",
    "    np.sqrt(w ** 2 + (y_axis) ** 2) >= l,\n",
    "    np.sqrt(w ** 2 + (h - y_axis) ** 2) >= l,\n",
    ")\n",
    "\n",
    "py = np.sqrt(l**2-w**2)\n",
    "\n",
    "plt.scatter(y_axis, allowed_y)\n",
    "plt.axvline(py)\n",
    "plt.axvline(h-py)\n"
   ]
  },
  {
   "cell_type": "code",
   "execution_count": null,
   "metadata": {},
   "outputs": [],
   "source": [
    "l = 0.5\n",
    "y = 0\n",
    "x_axis = np.linspace(0, w)\n",
    "\n",
    "b = np.any(\n",
    "    [\n",
    "        np.sqrt(y ** 2 + x_axis ** 2) >= l,\n",
    "        np.sqrt((h - y) ** 2 + x_axis ** 2) >= l,\n",
    "        np.sqrt(y ** 2 + (w - x_axis) ** 2) >= l,\n",
    "        np.sqrt((h - y) ** 2 + (w - x_axis) ** 2) >= l,\n",
    "    ],\n",
    "    axis=0,\n",
    ")\n",
    "\n",
    "x1 = np.sqrt(l ** 2 - y ** 2)\n",
    "x2 = np.sqrt(l ** 2 - (h - y) ** 2)\n",
    "x3 = w - np.sqrt(l ** 2 - y ** 2)\n",
    "x4 = w - np.sqrt(l ** 2 - (h - y) ** 2)\n",
    "\n",
    "plt.scatter(x_axis, b)\n",
    "plt.axvline(x1)\n",
    "plt.axvline(x2)\n",
    "plt.axvline(x3)\n",
    "plt.axvline(x4)\n"
   ]
  },
  {
   "cell_type": "code",
   "execution_count": null,
   "metadata": {},
   "outputs": [],
   "source": [
    "# Set line center to somewhere inside a circle and rotate randomly"
   ]
  }
 ],
 "metadata": {
  "interpreter": {
   "hash": "df5e1933087f8fa316124c3ffd7b7f2e3782bcd24b9e3525a06685ef24f27c56"
  },
  "kernelspec": {
   "display_name": "Python 3.8.6 ('edesdetectrl-J9dxY6QU-py3.8')",
   "language": "python",
   "name": "python3"
  },
  "language_info": {
   "codemirror_mode": {
    "name": "ipython",
    "version": 3
   },
   "file_extension": ".py",
   "mimetype": "text/x-python",
   "name": "python",
   "nbconvert_exporter": "python",
   "pygments_lexer": "ipython3",
   "version": "3.8.6"
  },
  "orig_nbformat": 4
 },
 "nbformat": 4,
 "nbformat_minor": 2
}
