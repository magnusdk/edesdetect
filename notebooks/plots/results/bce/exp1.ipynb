{
 "cells": [
  {
   "cell_type": "code",
   "execution_count": null,
   "metadata": {},
   "outputs": [],
   "source": [
    "import os\n",
    "os.environ[\"CUDA_VISIBLE_DEVICES\"] = \"\"\n",
    "\n",
    "import edesdetectrl.config as general_config\n",
    "from mlflow.tracking import MlflowClient\n",
    "import mlflow\n",
    "\n",
    "\n",
    "client = MlflowClient(general_config.config[\"mlflow\"][\"tracking_uri\"])\n",
    "experiment = client.get_experiment_by_name(\"VanillaBinaryClassificationBaseline\")\n",
    "dict(experiment), experiment.experiment_id\n"
   ]
  },
  {
   "cell_type": "code",
   "execution_count": null,
   "metadata": {},
   "outputs": [],
   "source": [
    "import os\n",
    "\n",
    "\n",
    "def get_params(artifact_dir):\n",
    "    # List of tuples of (step, params_path)\n",
    "    params_files = [(int(f[7:]), artifact_dir + f) for f in os.listdir(artifact_dir)]\n",
    "    params_files = [(step, f) for step, f in params_files if step <= 100_000]\n",
    "    params_files = sorted(params_files, key=lambda x: x[0])\n",
    "    return params_files\n"
   ]
  },
  {
   "cell_type": "code",
   "execution_count": null,
   "metadata": {},
   "outputs": [],
   "source": [
    "import numpy as np\n",
    "from notebooks.plots.results.bce import helpers\n",
    "from concurrent.futures import ProcessPoolExecutor\n",
    "\n",
    "pool = ProcessPoolExecutor(5)\n",
    "all_result = {}\n",
    "for run in client.search_runs(experiment.experiment_id):\n",
    "    artifact_dir = run.info.artifact_uri + \"/\"\n",
    "    param_files = get_params(artifact_dir)\n",
    "    latest_params = param_files[-1][1]\n",
    "    result = pool.submit(helpers.evaluate_with_params, latest_params, \"TRAIN\")\n",
    "    all_result[run.info.run_id] = result\n"
   ]
  },
  {
   "cell_type": "code",
   "execution_count": null,
   "metadata": {},
   "outputs": [],
   "source": [
    "all_result={k:v.result() for k,v in all_result.items()}"
   ]
  },
  {
   "cell_type": "code",
   "execution_count": null,
   "metadata": {},
   "outputs": [],
   "source": [
    "import pickle\n",
    "\n",
    "with open(\"notebooks/plots/results/bce/store/exp1_final_TRAIN_params\", \"wb+\") as f:\n",
    "    pickle.dump(all_result, f)"
   ]
  },
  {
   "cell_type": "code",
   "execution_count": null,
   "metadata": {},
   "outputs": [],
   "source": [
    "all_s = {}\n",
    "for run_id, r in all_result.items():\n",
    "    s = {}\n",
    "    for m in r.values():\n",
    "        for k, v in m.items():\n",
    "            s[k] = s.get(k, 0) + v/len(r)\n",
    "    all_s[run_id] = s"
   ]
  },
  {
   "cell_type": "code",
   "execution_count": null,
   "metadata": {},
   "outputs": [],
   "source": [
    "import matplotlib.pyplot as plt\n",
    "\n",
    "run_labels = {\n",
    "    \"567a46b69336472cb8e7a3b13688e3f1\": \"No N-step bootstrapping, no discounting, 100% exploration\",\n",
    "    \"410178a1d5ef48f68510a785d045baed\": \"4-step bootstrapping, no discounting, 100% exploration\",\n",
    "    \"0228822522b84e7e8c6aef686b4b4b25\": \"4-step bootstrapping, discounting, 100% exploration\",\n",
    "    \"e9b6431dc438403983c28a1937a02fa8\": \"4-step bootstrapping, discounting, 20% exploration\",\n",
    "}\n",
    "\n",
    "fig, ax = plt.subplots(ncols=2, figsize=(12,5))\n",
    "for i, (run_id, s) in enumerate(all_s.items()):\n",
    "    ax[0].bar([0 + i / 9], [s[\"balanced_accuracy\"]], width=0.1)\n",
    "ax[0].set_xticks([], [])\n",
    "ax[0].set_title(\"Balanced Accuracy\")\n",
    "ax[0].legend([run_labels[k] for k in all_s.keys()], loc=\"lower right\")\n",
    "ax[0].set_ylim([0.5, 0.8])\n",
    "\n",
    "for i, (run_id, s) in enumerate(all_s.items()):\n",
    "    ax[1].bar([0 + i / 9], [s[\"gaafd\"]], width=0.1)\n",
    "ax[1].set_xticks([], [])\n",
    "ax[1].set_title(\"GaaFD\")\n",
    "ax[1].legend([run_labels[k] for k in all_s.keys()], loc=\"lower right\")\n",
    "#ax[1].set_ylim([3.2, 3.22])\n",
    "\n",
    "fig.tight_layout()\n"
   ]
  },
  {
   "cell_type": "code",
   "execution_count": null,
   "metadata": {},
   "outputs": [],
   "source": [
    "legend_values = []\n",
    "fig, ax = plt.subplots(ncols=2, figsize=(12, 5))\n",
    "for run in client.search_runs(experiment.experiment_id):\n",
    "    loss_metrics = client.get_metric_history(run.info.run_id, \"total_loss\")\n",
    "    ax[0].plot(\n",
    "        [m.step for m in loss_metrics if m.step <= 5_000],\n",
    "        [m.value for m in loss_metrics if m.step <= 5_000],\n",
    "    )\n",
    "    legend_values.append(run_labels[run.info.run_id])\n",
    "    ax[0].set_ylim([0,0.6])\n",
    "    ax[0].set_xlabel(\"Step\")\n",
    "    ax[0].set_ylabel(\"Loss\")\n",
    "ax[0].legend(legend_values, loc=\"upper right\")\n",
    "\n",
    "for run in client.search_runs(experiment.experiment_id):\n",
    "    loss_metrics = client.get_metric_history(run.info.run_id, \"total_loss\")\n",
    "    ax[1].plot(\n",
    "        [m.step for m in loss_metrics if m.step <= 100_000],\n",
    "        [m.value for m in loss_metrics if m.step <= 100_000],\n",
    "    )\n",
    "    ax[1].set_ylim([0,0.6])\n",
    "    ax[1].set_xlabel(\"Step\")\n",
    "    ax[1].set_ylabel(\"Loss\")\n",
    "ax[1].legend(legend_values, loc=\"upper right\")\n",
    "\n",
    "fig.tight_layout()\n"
   ]
  }
 ],
 "metadata": {
  "interpreter": {
   "hash": "df5e1933087f8fa316124c3ffd7b7f2e3782bcd24b9e3525a06685ef24f27c56"
  },
  "kernelspec": {
   "display_name": "Python 3.8.6 ('edesdetectrl-J9dxY6QU-py3.8')",
   "language": "python",
   "name": "python3"
  },
  "language_info": {
   "codemirror_mode": {
    "name": "ipython",
    "version": 3
   },
   "file_extension": ".py",
   "mimetype": "text/x-python",
   "name": "python",
   "nbconvert_exporter": "python",
   "pygments_lexer": "ipython3",
   "version": "3.8.6"
  },
  "orig_nbformat": 4
 },
 "nbformat": 4,
 "nbformat_minor": 2
}
