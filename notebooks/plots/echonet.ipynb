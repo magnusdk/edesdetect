{
 "cells": [
  {
   "cell_type": "code",
   "execution_count": null,
   "metadata": {},
   "outputs": [],
   "source": [
    "import os\n",
    "os.environ[\"CUDA_VISIBLE_DEVICES\"] = \"\"\n",
    "\n",
    "import numpy  as np\n",
    "import matplotlib.pyplot as plt\n",
    "from edesdetectrl.dataloaders.echonet import Echonet\n",
    "from jax import random"
   ]
  },
  {
   "cell_type": "markdown",
   "metadata": {},
   "source": [
    "# Plotting samples from Echonet\n",
    "The first frame of 15 random videos."
   ]
  },
  {
   "cell_type": "code",
   "execution_count": null,
   "metadata": {},
   "outputs": [],
   "source": [
    "import matplotlib.pyplot as plt\n",
    "\n",
    "videos = []\n",
    "for i, data_item in enumerate(Echonet(\"TRAIN\").get_random_generator(random.PRNGKey(42))):\n",
    "    videos.append(data_item.video)\n",
    "    if i == 14:\n",
    "        break\n",
    "\n",
    "fig, ax = plt.subplots(ncols=5, nrows=3, figsize=(10,6))\n",
    "for i in range(5):\n",
    "    for j in range(3):\n",
    "        ax[j, i].imshow(videos[i+j*5][0], aspect=\"auto\", cmap=\"gray\")\n",
    "        ax[j, i].axis('off')\n",
    "\n",
    "fig.tight_layout()"
   ]
  },
  {
   "cell_type": "code",
   "execution_count": null,
   "metadata": {},
   "outputs": [],
   "source": [
    "len(Echonet(\"TRAIN\")) , len(Echonet(\"VAL\")) , len(Echonet(\"TEST\"))"
   ]
  },
  {
   "cell_type": "code",
   "execution_count": null,
   "metadata": {},
   "outputs": [],
   "source": [
    "1004/sum([5891, 1009, 1004])"
   ]
  },
  {
   "cell_type": "code",
   "execution_count": null,
   "metadata": {},
   "outputs": [],
   "source": [
    "9952-7904"
   ]
  },
  {
   "cell_type": "markdown",
   "metadata": {},
   "source": [
    "# Videos with too many heartbeats"
   ]
  },
  {
   "cell_type": "code",
   "execution_count": null,
   "metadata": {},
   "outputs": [],
   "source": [
    "from scipy.ndimage import gaussian_filter1d\n",
    "\n",
    "echonet = Echonet(None)\n",
    "\n",
    "bad_files = []\n",
    "pp = []\n",
    "for i, filename in enumerate(echonet.keys):\n",
    "    try:\n",
    "        f, args = echonet[filename]\n",
    "        traces = echonet.volumetracings_df.loc[filename]\n",
    "        ed, es = int(traces.iloc[0][\"Frame\"]), int(traces.iloc[-1][\"Frame\"])\n",
    "        v = f(*args)\n",
    "        video = [frame for frame in (v.video[ed:es] if ed < es else v.video[es:ed])]\n",
    "        ff = video[0]\n",
    "        diff = np.sum((video - ff) ** 2, axis=(1, 2))\n",
    "        diff = gaussian_filter1d(diff, sigma=1)\n",
    "        peaks = find_peaks(diff)\n",
    "        pp.append(len(peaks[0]))\n",
    "        if len(peaks[0]) >= 2:\n",
    "            print(peaks, filename)\n",
    "            bad_files.append(filename)\n",
    "    except Exception as e:\n",
    "        print(filename)\n",
    "        print(e)\n",
    "        break"
   ]
  },
  {
   "cell_type": "markdown",
   "metadata": {},
   "source": [
    "### Let's plot some of them"
   ]
  },
  {
   "cell_type": "code",
   "execution_count": null,
   "metadata": {},
   "outputs": [],
   "source": [
    "# Color palette\n",
    "pink = \"#FF00C0\"\n",
    "purple = \"#9401FF\"\n",
    "dark_blue = \"#4900FF\"\n",
    "blue = \"#01B9FF\"\n",
    "cyan = \"#00FFF9\""
   ]
  },
  {
   "cell_type": "code",
   "execution_count": null,
   "metadata": {},
   "outputs": [],
   "source": [
    "def foo(filename):\n",
    "    f, args = echonet[filename]\n",
    "    traces = echonet.volumetracings_df.loc[filename]\n",
    "    ed, es = int(traces.iloc[0][\"Frame\"]), int(traces.iloc[-1][\"Frame\"])\n",
    "    v = f(*args)\n",
    "    video = [frame for frame in (v.video[ed:es] if ed < es else v.video[es:ed])]\n",
    "    ff = video[0]\n",
    "    diff = np.sum((video - ff) ** 2, axis=(1, 2))\n",
    "    return gaussian_filter1d(diff, sigma=1), video\n",
    "\n",
    "import gif\n",
    "@gif.frame\n",
    "def frame(i, im, phase_curve):\n",
    "    fig, ax = plt.subplots(ncols=2)\n",
    "    ax[0].imshow(im, aspect=\"auto\", cmap=\"gray\")\n",
    "    ax[1].plot(phase_curve)\n",
    "    ax[1].axvline(i)\n",
    "    fig.suptitle(i)\n",
    "    fig.tight_layout()\n",
    "\n",
    "for filename in bad_files:\n",
    "    phase_curve, video = foo(filename)\n",
    "    gif.save([frame(i, im, phase_curve) for (i, im) in enumerate(video)], f\"bad_videos/{filename}.gif\", duration=40)\n",
    "\n"
   ]
  },
  {
   "cell_type": "code",
   "execution_count": null,
   "metadata": {},
   "outputs": [],
   "source": [
    "f\"{len(bad_files)} / {len(echonet.keys)}\""
   ]
  },
  {
   "cell_type": "code",
   "execution_count": null,
   "metadata": {},
   "outputs": [],
   "source": [
    "[k in bad_files for k in echonet.keys[:5]]"
   ]
  },
  {
   "cell_type": "code",
   "execution_count": null,
   "metadata": {},
   "outputs": [],
   "source": [
    "bad_phase_curve, _ = foo(\"0X100009310A3BD7FC.avi\")\n",
    "\n",
    "fig, ax = plt.subplots(ncols=5, nrows=2, figsize=(10, 4))\n",
    "for i, filename in enumerate(echonet.keys[:5]):\n",
    "    ax[0, i].plot(foo(filename)[0], color=dark_blue)\n",
    "    ax[1, i].plot(foo(bad_files[i+50])[0], color=dark_blue)\n",
    "    ax[0, i].set_xticklabels([])\n",
    "    ax[0, i].set_yticklabels([])\n",
    "    ax[1, i].set_xticklabels([])\n",
    "    ax[1, i].set_yticklabels([])\n",
    "    ax[0, i].set_xticks([])\n",
    "    ax[0, i].set_yticks([])\n",
    "    ax[1, i].set_xticks([])\n",
    "    ax[1, i].set_yticks([])\n",
    "ax[0,0].set_ylabel(\"Less than two peaks\", color=dark_blue)\n",
    "ax[1,0].set_ylabel(\"Two or more peaks\", color=dark_blue)\n",
    "for ax in fig.axes:\n",
    "    for spine in ax.spines.values():\n",
    "        spine.set_edgecolor(dark_blue)\n",
    "fig.tight_layout()\n"
   ]
  },
  {
   "cell_type": "code",
   "execution_count": null,
   "metadata": {},
   "outputs": [],
   "source": []
  },
  {
   "cell_type": "markdown",
   "metadata": {},
   "source": [
    "# FPS histograms"
   ]
  },
  {
   "cell_type": "code",
   "execution_count": null,
   "metadata": {},
   "outputs": [],
   "source": [
    "import pandas as pd\n",
    "\n",
    "echonet = Echonet(None)\n",
    "filelist_df = pd.read_csv(echonet.filelist_csv_file)\n",
    "fig = plt.figure(figsize=(5,5))\n",
    "_,_,patches=plt.hist(filelist_df[\"FPS\"], bins=40, color=blue)\n",
    "plt.yscale(\"log\")\n",
    "plt.xlabel(\"FPS\", color=dark_blue)\n",
    "plt.ylabel(\"Number of videos (log scale)\", color=dark_blue)\n",
    "plt.annotate(\"← 50 FPS\", (53,5000), color=dark_blue)\n",
    "plt.tick_params(color=dark_blue, labelcolor=dark_blue)\n",
    "for ax in fig.axes:\n",
    "    for spine in ax.spines.values():\n",
    "        spine.set_edgecolor(dark_blue)\n",
    "patches[10].set_color(pink)\n",
    "plt.tight_layout()\n",
    "None"
   ]
  }
 ],
 "metadata": {
  "interpreter": {
   "hash": "df5e1933087f8fa316124c3ffd7b7f2e3782bcd24b9e3525a06685ef24f27c56"
  },
  "kernelspec": {
   "display_name": "Python 3.8.6 ('edesdetectrl-J9dxY6QU-py3.8')",
   "language": "python",
   "name": "python3"
  },
  "language_info": {
   "codemirror_mode": {
    "name": "ipython",
    "version": 3
   },
   "file_extension": ".py",
   "mimetype": "text/x-python",
   "name": "python",
   "nbconvert_exporter": "python",
   "pygments_lexer": "ipython3",
   "version": "3.8.6"
  },
  "orig_nbformat": 4
 },
 "nbformat": 4,
 "nbformat_minor": 2
}
