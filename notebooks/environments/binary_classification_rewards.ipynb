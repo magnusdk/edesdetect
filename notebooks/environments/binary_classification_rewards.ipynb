{
 "cells": [
  {
   "cell_type": "code",
   "execution_count": null,
   "metadata": {},
   "outputs": [],
   "source": [
    "import edesdetectrl.environments.binary_classification as bc\n",
    "import matplotlib.pyplot as plt\n",
    "\n",
    "ground_truth = [0] * 5 + [1] * 10 + [0] * 7 + [1] * 9\n"
   ]
  },
  {
   "cell_type": "code",
   "execution_count": null,
   "metadata": {},
   "outputs": [],
   "source": [
    "def plot_rewards(ground_truth, predictions):\n",
    "    rewards = [\n",
    "        bc._get_dist_reward_impl(predictions[frame], frame, ground_truth)\n",
    "        for frame in range(len(ground_truth))\n",
    "    ]\n",
    "\n",
    "    fig, axes = plt.subplots(nrows=2)\n",
    "    axes[0].plot(ground_truth, \"o\")\n",
    "    axes[0].plot(predictions, \".\")\n",
    "    axes[0].legend([\"Ground truth values\", \"Predicted values\"])\n",
    "    for i in range(len(rewards)):\n",
    "        axes[0].axvspan(\n",
    "            i - 0.5, i + 0.5, facecolor=\"g\" if rewards[i] == 1 else \"r\", alpha=0.1\n",
    "        )\n",
    "\n",
    "    axes[1].plot(rewards)\n",
    "    axes[1].legend([\"Rewards\"])\n",
    "    for i in range(len(rewards)):\n",
    "        axes[1].axvspan(\n",
    "            i - 0.5, i + 0.5, facecolor=\"g\" if rewards[i] == 1 else \"r\", alpha=0.1\n",
    "        )\n",
    "\n",
    "    return fig, axes\n"
   ]
  },
  {
   "cell_type": "code",
   "execution_count": null,
   "metadata": {},
   "outputs": [],
   "source": [
    "fig, axes = plot_rewards(ground_truth, [0 for _ in ground_truth])\n",
    "fig.suptitle(\"Rewards for predicting 0 for every frame\")\n"
   ]
  },
  {
   "cell_type": "code",
   "execution_count": null,
   "metadata": {},
   "outputs": [],
   "source": [
    "import random\n",
    "\n",
    "fig, axes = plot_rewards(ground_truth, [random.randint(0, 1) for _ in ground_truth])\n",
    "fig.suptitle(\"Rewards for predicting randomly\")\n"
   ]
  }
 ],
 "metadata": {
  "interpreter": {
   "hash": "b627c9ab0c348ec1980d97c9bb8e67bc8ab96795a613e5cf335b4f693ea08e22"
  },
  "kernelspec": {
   "display_name": "Python 3.9.6 64-bit ('.venv': pipenv)",
   "name": "python3"
  },
  "language_info": {
   "codemirror_mode": {
    "name": "ipython",
    "version": 3
   },
   "file_extension": ".py",
   "mimetype": "text/x-python",
   "name": "python",
   "nbconvert_exporter": "python",
   "pygments_lexer": "ipython3",
   "version": "3.9.6"
  },
  "orig_nbformat": 4
 },
 "nbformat": 4,
 "nbformat_minor": 2
}
