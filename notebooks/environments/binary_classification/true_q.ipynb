{
 "cells": [
  {
   "cell_type": "code",
   "execution_count": null,
   "metadata": {},
   "outputs": [],
   "source": [
    "from edesdetectrl.environments.binary_classification import _get_dist_reward_impl\n",
    "\n",
    "\n",
    "def r1(x, i, gt):\n",
    "    return 1 if x == gt[i] else 0\n",
    "\n",
    "\n",
    "def r2(x, i, gt):\n",
    "    return 1 if x == gt[i] else -1\n",
    "\n",
    "\n",
    "def r3(x, i, gt):\n",
    "    return _get_dist_reward_impl(x, i, gt)\n",
    "\n",
    "\n",
    "def r4(x, i, gt):\n",
    "    if x == gt[i]:\n",
    "        # Find the frame difference between the current frame and the first ground truth that\n",
    "        # matches the prediction to the left of the frame.\n",
    "        closest_left = 0\n",
    "        while gt[i - closest_left] == x:\n",
    "            closest_left += 1\n",
    "            if i - closest_left < 0:\n",
    "                closest_left = None\n",
    "                break\n",
    "\n",
    "        if closest_left is not None:\n",
    "            return float(10 - closest_left)\n",
    "        else:\n",
    "            return 10\n",
    "    else:\n",
    "        return -1.0\n"
   ]
  },
  {
   "cell_type": "markdown",
   "metadata": {},
   "source": [
    "# Hello, World\n"
   ]
  },
  {
   "cell_type": "code",
   "execution_count": null,
   "metadata": {},
   "outputs": [],
   "source": [
    "seq = [0,0,0,0,0,0,1,1,1,1,1,1,0,0,0,0,0,0,0,0,1,1,1,1,1,1]\n"
   ]
  },
  {
   "cell_type": "code",
   "execution_count": null,
   "metadata": {},
   "outputs": [],
   "source": [
    "import numpy as np\n",
    "\n",
    "\n",
    "def get_true_q(seq, r, discount):\n",
    "    q = []\n",
    "    seq_len = len(seq)\n",
    "    for t in range(seq_len):\n",
    "        r_0 = r(0, t, seq)\n",
    "        r_1 = r(1, t, seq)\n",
    "\n",
    "        future_returns = np.sum(\n",
    "            [r(seq[k], k, seq) * discount ** (k - t) for k in range(t + 1, seq_len)]\n",
    "        )\n",
    "\n",
    "        q.append([r_0 + future_returns, r_1 + future_returns])\n",
    "\n",
    "    return np.array(q)\n",
    "\n",
    "\n",
    "import matplotlib.pyplot as plt\n",
    "\n",
    "\n",
    "def add_gt_to_plot(ax):\n",
    "    for i in range(len(seq)):\n",
    "        ax.axvspan(i - 0.5, i + 0.5, facecolor=\"g\" if seq[i] == 0 else \"b\", alpha=0.1)\n",
    "\n",
    "\n",
    "discount = 0.9\n",
    "seq_len = len(seq)\n",
    "q_r1_full = get_true_q(seq * 100, r1, discount)\n",
    "q_r2_full = get_true_q(seq * 100, r2, discount)\n",
    "q_r3_full = get_true_q(seq * 100, r3, discount)\n",
    "q_r4_full = get_true_q(seq * 100, r4, discount)\n"
   ]
  },
  {
   "cell_type": "code",
   "execution_count": null,
   "metadata": {},
   "outputs": [],
   "source": [
    "q_r1 = q_r1_full[seq_len : 2 * seq_len]\n",
    "q_r2 = q_r2_full[seq_len : 2 * seq_len]\n",
    "q_r3 = q_r3_full[seq_len : 2 * seq_len]\n",
    "q_r4 = q_r4_full[seq_len : 2 * seq_len]\n",
    "\n",
    "fig, ax = plt.subplots(ncols=4)\n",
    "ax[0].plot(q_r1[:, 0])\n",
    "ax[0].plot(q_r1[:, 1])\n",
    "add_gt_to_plot(ax[0])\n",
    "ax[1].plot(q_r2[:, 0])\n",
    "ax[1].plot(q_r2[:, 1])\n",
    "add_gt_to_plot(ax[1])\n",
    "ax[2].plot(q_r3[:, 0])\n",
    "ax[2].plot(q_r3[:, 1])\n",
    "add_gt_to_plot(ax[2])\n",
    "ax[3].plot(q_r4[:, 0])\n",
    "ax[3].plot(q_r4[:, 1])\n",
    "add_gt_to_plot(ax[3])\n",
    "fig.tight_layout()"
   ]
  },
  {
   "cell_type": "code",
   "execution_count": null,
   "metadata": {},
   "outputs": [],
   "source": [
    "fig, ax = plt.subplots(ncols=4)\n",
    "ax[0].plot(q_r1[:, 0] - q_r1[:, 1])\n",
    "add_gt_to_plot(ax[0])\n",
    "ax[1].plot(q_r2[:, 0] - q_r2[:, 1])\n",
    "add_gt_to_plot(ax[1])\n",
    "ax[2].plot(q_r3[:, 0] - q_r3[:, 1])\n",
    "add_gt_to_plot(ax[2])\n",
    "ax[3].plot(q_r4[:, 0] - q_r4[:, 1])\n",
    "add_gt_to_plot(ax[3])\n",
    "fig.tight_layout()\n"
   ]
  },
  {
   "cell_type": "code",
   "execution_count": null,
   "metadata": {},
   "outputs": [],
   "source": []
  }
 ],
 "metadata": {
  "interpreter": {
   "hash": "df5e1933087f8fa316124c3ffd7b7f2e3782bcd24b9e3525a06685ef24f27c56"
  },
  "kernelspec": {
   "display_name": "Python 3.8.6 64-bit ('edesdetectrl-J9dxY6QU-py3.8': poetry)",
   "language": "python",
   "name": "python3"
  },
  "language_info": {
   "codemirror_mode": {
    "name": "ipython",
    "version": 3
   },
   "file_extension": ".py",
   "mimetype": "text/x-python",
   "name": "python",
   "nbconvert_exporter": "python",
   "pygments_lexer": "ipython3",
   "version": "3.8.6"
  },
  "orig_nbformat": 4
 },
 "nbformat": 4,
 "nbformat_minor": 2
}
