{
 "cells": [
  {
   "cell_type": "code",
   "execution_count": null,
   "metadata": {},
   "outputs": [],
   "source": [
    "import random\n",
    "import numpy as np\n",
    "import matplotlib.pyplot as plt\n",
    "from edesdetectrl.metrics import soft_average_absolute_frame_difference\n",
    "\n",
    "ground_truths = [0, 0, 0, 0, 1, 1, 1, 1, 0, 0, 0, 0, 0, 0]\n",
    "\n",
    "# What's the aaFD for sequences where we randomly invert the ground truth values with probability p?\n",
    "def randomly_swap(xs, p):\n",
    "    new_xs = []\n",
    "    for x in xs:\n",
    "        if p < random.random():\n",
    "            new_xs.append(x)\n",
    "        else:\n",
    "            new_xs.append(1 - x)\n",
    "    return new_xs\n",
    "\n",
    "\n",
    "probs = np.linspace(0, 1, 11)\n",
    "aafds = []\n",
    "n = 1000\n",
    "for p in probs:\n",
    "    aafd = 0\n",
    "    for _ in range(n):\n",
    "        predictions = randomly_swap(ground_truths, p)\n",
    "        aafd += soft_average_absolute_frame_difference(ground_truths, predictions)\n",
    "    aafds.append(aafd / n)\n",
    "\n",
    "plt.xlabel(\"Probability of inverting ground truth\")\n",
    "plt.ylabel(\"aaFD\")\n",
    "plt.plot(probs, aafds)\n"
   ]
  },
  {
   "cell_type": "code",
   "execution_count": null,
   "metadata": {},
   "outputs": [],
   "source": []
  }
 ],
 "metadata": {
  "interpreter": {
   "hash": "8c874da82c45311228f313b6f39f3c34909c3af42cf779d57954a522c91027b5"
  },
  "kernelspec": {
   "display_name": "Python 3.6.13 64-bit ('ed_es_detect_rl-w7qqMI3V': pipenv)",
   "name": "python3"
  },
  "language_info": {
   "codemirror_mode": {
    "name": "ipython",
    "version": 3
   },
   "file_extension": ".py",
   "mimetype": "text/x-python",
   "name": "python",
   "nbconvert_exporter": "python",
   "pygments_lexer": "ipython3",
   "version": "3.6.13"
  },
  "orig_nbformat": 4
 },
 "nbformat": 4,
 "nbformat_minor": 2
}
